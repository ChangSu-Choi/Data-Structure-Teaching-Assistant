{
 "nbformat": 4,
 "nbformat_minor": 0,
 "metadata": {
  "colab": {
   "name": "practice.ipynb",
   "provenance": [],
   "collapsed_sections": []
  },
  "kernelspec": {
   "name": "python3",
   "display_name": "Python 3"
  }
 },
 "cells": [
  {
   "cell_type": "code",
   "metadata": {
    "pycharm": {
     "name": "#%%\n"
    },
    "id": "alxxlxeaxzTf"
   },
   "source": [
    "# 문제 1. Hello, World! 출력하세요.\n",
    "\n",
    "# 정답 1.\n"
   ],
   "execution_count": null,
   "outputs": []
  },
  {
   "cell_type": "code",
   "metadata": {
    "pycharm": {
     "name": "#%%\n"
    },
    "id": "Cl8JMZ2KxzTi"
   },
   "source": [
    "# 문제 2. samsung 이라는 변수로 50000원을 설정하시오. samsung 주식 10주를 보유하고 있을 때, 총 평가금액을 출력하세요.\n",
    "\n",
    "# 정답 2.\n"
   ],
   "execution_count": null,
   "outputs": []
  },
  {
   "cell_type": "code",
   "metadata": {
    "pycharm": {
     "name": "#%%\n"
    },
    "id": "UchOLoQHxzTi"
   },
   "source": [
    "# 문제 3. 아래 변수에 바인딩된 값의 타입을 판별해보세요.\n",
    "a = \"132\"\n",
    "\n",
    "# 정답 3.\n"
   ],
   "execution_count": null,
   "outputs": []
  },
  {
   "cell_type": "code",
   "metadata": {
    "pycharm": {
     "name": "#%%\n"
    },
    "id": "hJwEQNIVxzTj"
   },
   "source": [
    "# 문제 4. 문자열 \"720\"을 정수형으로 변환한 변수와 타입을 출력하세요.\n",
    "num_str = \"720\"\n",
    "\n",
    "# 정답 4.\n"
   ],
   "execution_count": null,
   "outputs": []
  },
  {
   "cell_type": "code",
   "metadata": {
    "pycharm": {
     "name": "#%%\n"
    },
    "id": "wzitip7kxzTj"
   },
   "source": [
    "# 문제 5. 실수형 3.141592 를 문자열로 변환한 변수와 타입을 출력하세요.\n",
    "pi = 3.141592\n",
    "\n",
    "# 정답 5.\n"
   ],
   "execution_count": null,
   "outputs": []
  },
  {
   "cell_type": "code",
   "metadata": {
    "pycharm": {
     "name": "#%%\n"
    },
    "id": "KQM9hFc2xzTj"
   },
   "source": [
    "# 문제 6. 문자열 \"3.141592\" 를 실수형으로 변환한 변수와 타입을 출력하세요.\n",
    "pi = \"3.141592\"\n",
    "\n",
    "# 정답 6.\n"
   ],
   "execution_count": null,
   "outputs": []
  },
  {
   "cell_type": "code",
   "metadata": {
    "pycharm": {
     "name": "#%%\n"
    },
    "id": "bjEICf1FxzTj"
   },
   "source": [
    "# 문제 7. 에어컨이 월 48,584원에 무이자 36개월의 조건으로 홈쇼핑에서 판매 중입니다. 총 구입 금액을 계산한 후 이를 출력하세요.\n",
    "\n",
    "# 정답 7.\n"
   ],
   "execution_count": null,
   "outputs": []
  },
  {
   "cell_type": "code",
   "metadata": {
    "pycharm": {
     "name": "#%%\n"
    },
    "id": "2PKkq8GHxzTj"
   },
   "source": [
    "# 문제 8. 두 정수 A와 B를 입력받은 다음, A+B 결과값을 출력하는 프로그램을 작성하시오.\n",
    "# 입력 시, A에 30, B에 10 입력하세요.\n",
    "# 문제 링크: https://www.acmicpc.net/problem/1000\n",
    "\n",
    "# 정답 8.\n",
    "values = input()\n",
    "values = values.split()\n",
    "a = int(values[0])\n",
    "b = int(values[1])\n",
    "# 코드 작성: A+B 결과값 출력하는 코드\n"
   ],
   "execution_count": null,
   "outputs": []
  },
  {
   "cell_type": "code",
   "metadata": {
    "pycharm": {
     "name": "#%%\n"
    },
    "id": "MWGZWKwFxzTk"
   },
   "source": [
    "# 문제 9. 두 정수 A와 B를 입력받은 다음, A/B 결과값을 출력하는 프로그램을 작성하시오.\n",
    "# 입력 시, A에 30, B에 10 입력하세요.\n",
    "# 문제 링크: https://www.acmicpc.net/problem/1008\n",
    "\n",
    "# 정답 9.\n",
    "values = input()\n",
    "values = values.split()\n",
    "a = int(values[0])\n",
    "b = int(values[1])\n",
    "# 코드 작성: A/B 결과값 출력하는 코드\n"
   ],
   "execution_count": null,
   "outputs": []
  },
  {
   "cell_type": "code",
   "metadata": {
    "id": "rV1GVflHEXn0"
   },
   "source": [
    "# 문제 10. 학번과 이름이 다음과 같을 때 이름만 출력하기\n",
    "license_plate = \"20200000 홍길동\"  # 수강생 분의 학번, 이름 반영 바랍니다.\n",
    "\n",
    "# 정답 10.\n"
   ],
   "execution_count": null,
   "outputs": []
  },
  {
   "cell_type": "code",
   "metadata": {
    "id": "Fuqb_cC-EQlv"
   },
   "source": [
    "# 문제 11. 아래의 전화번호에서 하이픈('-')을 제거하고 출력하기\n",
    "phone_number = \"010-1111-2222\"\n",
    "\n",
    "# 정답 11.\n"
   ],
   "execution_count": null,
   "outputs": []
  },
  {
   "cell_type": "code",
   "metadata": {
    "id": "ZuRraohFFxfm"
   },
   "source": [
    "# 문제 12. 아래 문자열에서 소문자 'a'를 대문자 'A'로 변경하기\n",
    "string = \"abcdfe2a354a32\"\n",
    "\n",
    "# 정답 12.\n"
   ],
   "execution_count": null,
   "outputs": []
  },
  {
   "cell_type": "code",
   "metadata": {
    "id": "g6r46qL8F9D6"
   },
   "source": [
    "# 문제 13. 문자열을 소문자 btc_krw로 변경하기\n",
    "ticker = \"BTC_KRW\"\n",
    "\n",
    "# 정답 13.\n"
   ],
   "execution_count": null,
   "outputs": []
  },
  {
   "cell_type": "code",
   "metadata": {
    "id": "TNrELlmVGNJa"
   },
   "source": [
    "# 문제 14. 파일 이름이 문자열로 저장되어 있을 때, startswith 함수로\n",
    "# 파일 이름이 '2020'로 시작하는지 확인하기\n",
    "file_name = \"2020_보고서.xlsx\"\n",
    "\n",
    "#정답 14.\n"
   ],
   "execution_count": null,
   "outputs": []
  },
  {
   "cell_type": "code",
   "metadata": {
    "id": "uxW8swn9GYnf"
   },
   "source": [
    "# 문제 15. 아래 문자열을 endswith 함수로 파일 이름이 'xlsx'로 끝나는지 확인하기\n",
    "file_name = \"보고서.xlsx\"\n",
    "\n",
    "# 정답 15.\n"
   ],
   "execution_count": null,
   "outputs": []
  },
  {
   "cell_type": "code",
   "metadata": {
    "id": "50tB2EFRGihu"
   },
   "source": [
    "# 문제 16. 다음의 문자열을 btc, krw로 나누기\n",
    "ticker = \"btc_krw\"\n",
    "\n",
    "# 정답 16.\n"
   ],
   "execution_count": null,
   "outputs": []
  },
  {
   "cell_type": "code",
   "metadata": {
    "id": "94Bv-WGbGpAW"
   },
   "source": [
    "# 문제 17. lang1과 lang2 리스트의 원소를 모두 갖는 langs 리스트 만들기\n",
    "lang1 = [\"C\", \"C++\", \"JAVA\"]\n",
    "lang2 = [\"Python\", \"Go\", \"C#\"]\n",
    "\n",
    "# 정답 17.\n"
   ],
   "execution_count": null,
   "outputs": []
  },
  {
   "cell_type": "code",
   "metadata": {
    "id": "TsIEgTVbG1cl"
   },
   "source": [
    "# 문제 18. 다음 리스트에 저장된 데이터의 개수를 화면에 출력하기\n",
    "cook = [\"피자\", \"김밥\", \"만두\", \"양념치킨\", \"족발\", \"피자\", \"김치만두\", \"쫄면\"]\n",
    "\n",
    "# 정답 18.\n"
   ],
   "execution_count": null,
   "outputs": []
  },
  {
   "cell_type": "code",
   "metadata": {
    "id": "WtuIJ2D4HFse"
   },
   "source": [
    "# 문제 19. 슬라이싱 사용하여 홀수만 출력하기\n",
    "nums = [1, 2, 3, 4, 5, 6, 7, 8, 9, 10]\n",
    "\n",
    "# 정답 19.\n"
   ],
   "execution_count": null,
   "outputs": []
  },
  {
   "cell_type": "code",
   "metadata": {
    "id": "C6Q3csBFHkgu"
   },
   "source": [
    "# 문제 20. 리스트에 아래의 데이터가 바인딩 되어 있다.\n",
    "interest = ['삼성전자', 'LG전자', 'NAVER', 'SK하이닉스','미래에셋대우']\n",
    "# 아래와 같이 화면에 출력하라.\n",
    "# 출력 예시: 삼성전자/LG전자/NAVER/SK하이닉스/미래에셋대우\n",
    "\n",
    "# 정답 20.\n"
   ],
   "execution_count": null,
   "outputs": []
  },
  {
   "cell_type": "code",
   "metadata": {
    "id": "GLALcROlH3lO"
   },
   "source": [
    "# 문제 21. 다음 딕셔너리에서 메로나의 가격을 1300으로 수정하라.\n",
    "ice = {\n",
    "    '메로나': 1000,\n",
    "    '폴로포': 1200,\n",
    "    '빵빠레': 1800,\n",
    "    '죠스바': 1200,\n",
    "    '월드콘': 1500\n",
    "}\n",
    "\n",
    "# 정답 21.\n"
   ],
   "execution_count": null,
   "outputs": []
  },
  {
   "cell_type": "code",
   "metadata": {
    "id": "VR0TaEKCIVfd"
   },
   "source": [
    "# 문제 22. 다음 딕셔너리에서 메로나를 삭제하라.\n",
    "ice = {\n",
    "    '메로나': 1000,\n",
    "    '폴로포': 1200,\n",
    "    '빵빠레': 1800,\n",
    "    '죠스바': 1200,\n",
    "    '월드콘': 1500\n",
    "}\n",
    "\n",
    "# 정답 22.\n"
   ],
   "execution_count": null,
   "outputs": []
  },
  {
   "cell_type": "code",
   "metadata": {
    "id": "FPLJdbcDIfLh"
   },
   "source": [
    "# 문제 23. 다음 딕셔너리에서 메로나의 가격을 화면에 출력하라.\n",
    "inventory = {\n",
    "    \"메로나\": [300, 20],\n",
    "    \"비비빅\": [400, 3],\n",
    "    \"죠스바\": [250, 100]\n",
    "}\n",
    "\n",
    "# 정답 23.\n"
   ],
   "execution_count": null,
   "outputs": []
  },
  {
   "cell_type": "markdown",
   "metadata": {
    "id": "QeeBJFcoxzTm"
   },
   "source": [
    "연습문제"
   ]
  },
  {
   "cell_type": "code",
   "metadata": {
    "pycharm": {
     "name": "#%%\n"
    },
    "id": "g4N-DzKqxzTm"
   },
   "source": [
    "# 문제 24. 두 정수 A와 B를 입력받은 다음, A+B, A-B, A*B, A/B(몫), A%B(나머지) 정수형 결과값을 출력하는 프로그램을 작성하시오.\n",
    "# 입력 시, A에 32, B에 3 입력하세요.\n",
    "# 문제 링크: https://www.acmicpc.net/problem/10869\n",
    "\n",
    "# 정답 24.\n",
    "values = input()\n",
    "values = values.split()\n",
    "a = int(values[0])\n",
    "b = int(values[1])\n",
    "# 코드 작성: A+B 결과값 출력\n",
    "# 코드 작성: A-B 결과값 출력\n",
    "# 코드 작성: A*B 결과값 출력\n",
    "# 코드 작성: A/B 결과값 출력\n",
    "# 코드 작성: A%B 결과값 출력"
   ],
   "execution_count": null,
   "outputs": []
  },
  {
   "cell_type": "code",
   "metadata": {
    "pycharm": {
     "name": "#%%\n"
    },
    "id": "JNXxUSEcxzTm"
   },
   "source": [
    "# 문제 25. 최초로 이익이 발생하는 판매량(> 손익분기점)을 출력한다. 이익이 발생하지 않으면 -1을 출력한다.\n",
    "# A는 고정비용, B는 가변 비용, C는 제품 가격이다.\n",
    "# 입력 시 1000 70 170 입력하세요.\n",
    "# 문제 링크: https://www.acmicpc.net/problem/1712\n",
    "# 손익분기점 계산식: a + b * x = c * x\n",
    "\n",
    "# 정답 25.\n",
    "values = input()\n",
    "values = values.split()\n",
    "a = int(values[0])\n",
    "b = int(values[1])\n",
    "c = int(values[2])\n",
    "# A는 고정비용, B는 가변 비용, C는 제품 가격이다.\n",
    "# 손익분기점 계산식: a + b * x = c * x\n",
    "\n",
    "# 코드 작성: 이익이 발생하지 않는 경우 -1 출력\n",
    "# 코드 작성: 최초로 이익이 발생하는 정수형 판매량(> 손익분기점) 출력"
   ],
   "execution_count": null,
   "outputs": []
  },
  {
   "cell_type": "code",
   "metadata": {
    "pycharm": {
     "name": "#%%\n"
    },
    "id": "Ps5wJEavxzTm"
   },
   "source": [
    "# 문제 26. 슬라이싱 사용하여 리스트의 숫자를 역 방향으로 출력하기\n",
    "nums = [1, 2, 3, 4, 5]\n",
    "\n",
    "# 정답 26.\n"
   ],
   "execution_count": null,
   "outputs": []
  },
  {
   "cell_type": "code",
   "metadata": {
    "pycharm": {
     "name": "#%%\n"
    },
    "id": "IR-ZCAzbxzTm"
   },
   "source": [
    "# 문제 27. 회사 이름이 슬래시 ('/')로 구분되어 하나의 문자열로 저장되어 있다.\n",
    "string = \"삼성전자/LG전자/NAVER\"\n",
    "# 이를 3개의 회사 이름으로 분리시키기\n",
    "\n",
    "# 정답 27.\n"
   ],
   "execution_count": null,
   "outputs": []
  },
  {
   "cell_type": "code",
   "metadata": {
    "pycharm": {
     "name": "#%%\n"
    },
    "id": "EKfshouxxzTn"
   },
   "source": [
    "# 문제 28. 다음 딕셔너리에서 key 값으로만 구성된 리스트를 생성하라.\n",
    "icecream = {\"탱크보이\": 1200, \"폴라포\": 1200, \"빵빠레\": 1800, \"월드콘\": 1500, \"메로나\": 1000}\n",
    "\n",
    "# 정답 28.\n"
   ],
   "execution_count": null,
   "outputs": []
  },
  {
   "cell_type": "code",
   "metadata": {
    "pycharm": {
     "name": "#%%\n"
    },
    "id": "GcbkcK0cxzTn"
   },
   "source": [
    "# 문제 29. 다음 딕셔너리에서 values 값으로만 구성된 리스트를 생성하라.\n",
    "icecream = {\"탱크보이\": 1200, \"폴라포\": 1200, \"빵빠레\": 1800, \"월드콘\": 1500, \"메로나\": 1000}\n",
    "\n",
    "# 정답 29.\n"
   ],
   "execution_count": null,
   "outputs": []
  },
  {
   "cell_type": "code",
   "metadata": {
    "id": "Hd6nbq2A0oeL"
   },
   "source": [],
   "execution_count": null,
   "outputs": []
  }
 ]
}